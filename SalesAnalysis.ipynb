{
  "nbformat": 4,
  "nbformat_minor": 0,
  "metadata": {
    "colab": {
      "provenance": []
    },
    "kernelspec": {
      "name": "python3",
      "display_name": "Python 3"
    },
    "language_info": {
      "name": "python"
    }
  },
  "cells": [
    {
      "cell_type": "markdown",
      "source": [
        "#Sales Analysis"
      ],
      "metadata": {
        "id": "BJgJGXtt7XVr"
      }
    },
    {
      "cell_type": "markdown",
      "source": [
        "##Import Necessary Libraries"
      ],
      "metadata": {
        "id": "36dx3DpRhrm7"
      }
    },
    {
      "cell_type": "code",
      "source": [
        "import pandas as pd\n",
        "import os"
      ],
      "metadata": {
        "id": "NB7Tat71s3J_"
      },
      "execution_count": null,
      "outputs": []
    },
    {
      "cell_type": "markdown",
      "source": [
        "##Merge csv Files"
      ],
      "metadata": {
        "id": "_9E7lujhhkme"
      }
    },
    {
      "cell_type": "code",
      "source": [
        "path = \"./Salesbulanan\"\n",
        "files = [file for file in os.listdir(path) if not file.startswith('.')] # Ignore hidden files\n",
        "all_months_data = pd.DataFrame()\n",
        "\n",
        "for file in files:\n",
        "    current_data = pd.read_csv(path+\"/\"+file, delimiter=';', usecols=[\"ID\",\"Product\",\"Price\",\"QTY\",\"Date\",\"Address\"])\n",
        "    all_months_data = pd.concat([all_months_data, current_data])\n",
        "\n",
        "all_months_data.to_csv(\"all_data_copy.csv\", index=False)\n",
        "all_data = pd.read_csv(\"all_data_copy.csv\")"
      ],
      "metadata": {
        "id": "O3wL4E-Kt9F-"
      },
      "execution_count": null,
      "outputs": []
    },
    {
      "cell_type": "markdown",
      "source": [
        "##Clear Data"
      ],
      "metadata": {
        "id": "990539MKhYgR"
      }
    },
    {
      "cell_type": "code",
      "source": [
        "# Find NAN\n",
        "nan_df = all_data[all_data.isna().any(axis=1)]\n",
        "display(nan_df.head())\n",
        "\n",
        "all_data = all_data.dropna(how='all')\n",
        "all_data"
      ],
      "metadata": {
        "id": "bbIMFKWVwVgs"
      },
      "execution_count": null,
      "outputs": []
    },
    {
      "cell_type": "markdown",
      "source": [
        "##Adding Month and Sales Data"
      ],
      "metadata": {
        "id": "v0Mh0x8bh8Xd"
      }
    },
    {
      "cell_type": "code",
      "source": [
        "all_data['Month'] = all_data['Date'].str[3:5]\n",
        "all_data['Month'] = all_data['Month'].astype('int32')\n",
        "all_data"
      ],
      "metadata": {
        "id": "OyR6s_P41vAp"
      },
      "execution_count": null,
      "outputs": []
    },
    {
      "cell_type": "code",
      "source": [
        "all_data['Sales'] = all_data[\"QTY\"]*all_data[\"Price\"]\n",
        "all_data"
      ],
      "metadata": {
        "id": "ZAr7EL_LA3ni"
      },
      "execution_count": null,
      "outputs": []
    },
    {
      "cell_type": "markdown",
      "source": [
        "##Task1: Best Month Sales"
      ],
      "metadata": {
        "id": "PNS7NpcmJ5og"
      }
    },
    {
      "cell_type": "code",
      "source": [
        "#Group Month And Sales\n",
        "sales_month= all_data['Sales'] .groupby(all_data['Month']).sum()\n",
        "sales_month = pd.DataFrame(sales_month)\n",
        "#Group Month And Quantity\n",
        "quantity_month = all_data[\"QTY\"].groupby(all_data[\"Month\"]).sum()\n",
        "quantity_month = pd.DataFrame(quantity_month)\n",
        "#Merge Them\n",
        "sales_quantity = pd.concat([sales_month,quantity_month],axis=1)\n",
        "sales_quantity.sort_values('Sales',ascending=False)"
      ],
      "metadata": {
        "id": "1crUbUczCAmZ"
      },
      "execution_count": null,
      "outputs": []
    },
    {
      "cell_type": "markdown",
      "source": [
        "##Task2: Best Product Sales"
      ],
      "metadata": {
        "id": "LoNOHyuPOfIm"
      }
    },
    {
      "cell_type": "code",
      "source": [
        "#Group Product And Quantity\n",
        "product_quantity = all_data[\"QTY\"].groupby(all_data['Product']).sum()\n",
        "product_quantity = pd.DataFrame(product_quantity)\n",
        "#Group Product And Sales\n",
        "product_sales = all_data[\"Sales\"].groupby(all_data['Product']).sum()\n",
        "product_sales = pd.DataFrame(product_sales)\n",
        "#Merge Them\n",
        "product_group = pd.concat([product_quantity,product_sales],axis=1)\n",
        "product_group.sort_values('Sales',ascending=False)"
      ],
      "metadata": {
        "id": "p37cA0SvsOF2"
      },
      "execution_count": null,
      "outputs": []
    },
    {
      "cell_type": "markdown",
      "source": [
        "##Task3: What City Sold the Most Product"
      ],
      "metadata": {
        "id": "vA_1-4snVTDV"
      }
    },
    {
      "cell_type": "code",
      "source": [
        "all_data[\"City\"] = all_data[\"Address\"].apply(lambda x: x.split(',')[0])\n",
        "city_sales = all_data['Sales'].groupby(all_data['City']).sum()\n",
        "city_sales = pd.DataFrame(city_sales)\n",
        "city_quantity = all_data[\"QTY\"].groupby(all_data['City']).sum()\n",
        "city_quantity = pd.DataFrame(city_quantity)\n",
        "city_product = all_data[\"Product\"].groupby(all_data['City']).max()\n",
        "city_product = pd.DataFrame(city_product)\n",
        "city_max = pd.concat([city_sales,city_quantity,city_product],axis=1)\n",
        "city_max.sort_values('Sales',ascending=False)"
      ],
      "metadata": {
        "id": "Ig-6yN3NyTWv"
      },
      "execution_count": null,
      "outputs": []
    },
    {
      "cell_type": "markdown",
      "source": [
        "##Task4: Mean Sales per Month"
      ],
      "metadata": {
        "id": "Q3xe_CiXgfg8"
      }
    },
    {
      "cell_type": "code",
      "source": [
        "mean_month = all_data.groupby(\"Month\")[\"Sales\"].mean()\n",
        "mean_month = pd.DataFrame(mean_month)\n",
        "mean_month.rename(columns = {'Sales':'Mean'})"
      ],
      "metadata": {
        "id": "J2XD1N8zvnVP"
      },
      "execution_count": null,
      "outputs": []
    }
  ]
}